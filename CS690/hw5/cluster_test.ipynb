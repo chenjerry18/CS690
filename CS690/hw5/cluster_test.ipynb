{
 "cells": [
  {
   "cell_type": "code",
   "execution_count": 23,
   "metadata": {
    "collapsed": true
   },
   "outputs": [],
   "source": [
    "from __future__ import division\n",
    "import math\n",
    "import os\n",
    "import re\n",
    "import random\n",
    "import nltk\n",
    "import numpy as np\n",
    "from collections import defaultdict"
   ]
  },
  {
   "cell_type": "code",
   "execution_count": 16,
   "metadata": {
    "collapsed": true
   },
   "outputs": [],
   "source": [
    "POS_LABEL = 'pos'\n",
    "NEG_LABEL = 'neg'\n",
    "\n",
    "# Path to dataset\n",
    "PATH_TO_DATA = os.path.join(os.getcwd(),\"\")# FILL IN THE ABSOLUTE PATH TO THE DATASET HERE\n",
    "TRAIN_DIR = os.path.join(PATH_TO_DATA, \"train\")"
   ]
  },
  {
   "cell_type": "code",
   "execution_count": 3,
   "metadata": {
    "collapsed": true
   },
   "outputs": [],
   "source": [
    "def nltk_tokenizer(doc):\n",
    "    from nltk.tokenize import TweetTokenizer\n",
    "    from nltk.stem.lancaster import LancasterStemmer\n",
    "    st = LancasterStemmer()\n",
    "    bow = defaultdict(float)\n",
    "    tknzr = TweetTokenizer()\n",
    "    tokens = tknzr.tokenize(doc)\n",
    "    lowered_tokens = map(lambda t: t.lower(), tokens)\n",
    "    for token in lowered_tokens:\n",
    "        bow[token]+=1.0\n",
    "    return bow"
   ]
  },
  {
   "cell_type": "code",
   "execution_count": 4,
   "metadata": {
    "collapsed": true
   },
   "outputs": [],
   "source": [
    "from sklearn.feature_extraction.text import CountVectorizer"
   ]
  },
  {
   "cell_type": "code",
   "execution_count": 6,
   "metadata": {
    "collapsed": true
   },
   "outputs": [],
   "source": [
    "vectorizer = CountVectorizer()\n",
    "corpus = ['boring', 'disgusting',  'bad']\n",
    "analyze = vectorizer.fit(corpus)"
   ]
  },
  {
   "cell_type": "code",
   "execution_count": 14,
   "metadata": {
    "collapsed": false
   },
   "outputs": [
    {
     "data": {
      "text/plain": [
       "[[0, 0, 0], [0, 0, 0]]"
      ]
     },
     "execution_count": 14,
     "metadata": {},
     "output_type": "execute_result"
    }
   ],
   "source": [
    "vectorizer.transform(['Something completely new.', 'www']).toarray().tolist()"
   ]
  },
  {
   "cell_type": "code",
   "execution_count": 18,
   "metadata": {
    "collapsed": false
   },
   "outputs": [
    {
     "name": "stdout",
     "output_type": "stream",
     "text": [
      "Starting training with paths /Users/chenjiannan/Documents/UMass/2017Fall/CS690/hw5/train/pos and /Users/chenjiannan/Documents/UMass/2017Fall/CS690/hw5/train/neg\n"
     ]
    }
   ],
   "source": [
    "pos_path = os.path.join(TRAIN_DIR, POS_LABEL)\n",
    "neg_path = os.path.join(TRAIN_DIR, NEG_LABEL)\n",
    "content_dict = {POS_LABEL : [], NEG_LABEL : []}\n",
    "print (\"Starting training with paths %s and %s\" % (pos_path, neg_path))\n",
    "for (p, label) in [ (pos_path, POS_LABEL), (neg_path, NEG_LABEL) ]:\n",
    "    filenames = os.listdir(p)\n",
    "    allFiles = []\n",
    "    for i in filenames:\n",
    "        if os.path.splitext(i)[1] == '.txt':\n",
    "            allFiles.append(i)\n",
    "    for f in allFiles:\n",
    "        with open(os.path.join(p,f),'r', encoding='latin1') as doc:\n",
    "            content = doc.read()\n",
    "            content_dict[label].append(content)"
   ]
  },
  {
   "cell_type": "code",
   "execution_count": 20,
   "metadata": {
    "collapsed": false
   },
   "outputs": [],
   "source": [
    "feature_matrix = {POS_LABEL : [], NEG_LABEL : []}\n",
    "feature_matrix[POS_LABEL] = vectorizer.transform(content_dict[POS_LABEL]).toarray().tolist()\n",
    "feature_matrix[NEG_LABEL] = vectorizer.transform(content_dict[NEG_LABEL]).toarray().tolist()"
   ]
  },
  {
   "cell_type": "code",
   "execution_count": 25,
   "metadata": {
    "collapsed": false
   },
   "outputs": [],
   "source": [
    "features = feature_matrix[POS_LABEL] + feature_matrix[NEG_LABEL]\n",
    "train_set = np.asarray(features)\n",
    "# neg_train = np.asarray(feature_matrix[NEG_LABEL])"
   ]
  },
  {
   "cell_type": "code",
   "execution_count": 26,
   "metadata": {
    "collapsed": true
   },
   "outputs": [],
   "source": [
    "from sklearn.cluster import KMeans\n",
    "kmeans = KMeans(n_clusters=2, random_state=0).fit(train_set)"
   ]
  },
  {
   "cell_type": "code",
   "execution_count": null,
   "metadata": {
    "collapsed": true
   },
   "outputs": [],
   "source": []
  }
 ],
 "metadata": {
  "kernelspec": {
   "display_name": "Python 3",
   "language": "python",
   "name": "python3"
  },
  "language_info": {
   "codemirror_mode": {
    "name": "ipython",
    "version": 3
   },
   "file_extension": ".py",
   "mimetype": "text/x-python",
   "name": "python",
   "nbconvert_exporter": "python",
   "pygments_lexer": "ipython3",
   "version": "3.5.2"
  }
 },
 "nbformat": 4,
 "nbformat_minor": 2
}
